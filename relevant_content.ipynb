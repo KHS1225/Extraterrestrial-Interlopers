{
  "nbformat": 4,
  "nbformat_minor": 0,
  "metadata": {
    "colab": {
      "name": "relevant-content.ipynb",
      "provenance": [],
      "authorship_tag": "ABX9TyNx8f9XPdbpQSGOG/N02aRz",
      "include_colab_link": true
    },
    "kernelspec": {
      "name": "python3",
      "display_name": "Python 3"
    },
    "language_info": {
      "name": "python"
    }
  },
  "cells": [
    {
      "cell_type": "markdown",
      "metadata": {
        "id": "view-in-github",
        "colab_type": "text"
      },
      "source": [
        "<a href=\"https://colab.research.google.com/github/KHS1225/Extraterrestrial-Interlopers/blob/main/relevant_content.ipynb\" target=\"_parent\"><img src=\"https://colab.research.google.com/assets/colab-badge.svg\" alt=\"Open In Colab\"/></a>"
      ]
    },
    {
      "cell_type": "markdown",
      "source": [
        "This is a document containing the primary resources used to build this system\n",
        "### CS50 Introduction to Computer Science\n",
        "### CS50's Web Programming with Python and JavaScript"
      ],
      "metadata": {
        "id": "rZK3l1YsQIGZ"
      }
    },
    {
      "cell_type": "code",
      "execution_count": 1,
      "metadata": {
        "id": "GVmDG-2iP8eh"
      },
      "outputs": [],
      "source": [
        "import math"
      ]
    }
  ]
}